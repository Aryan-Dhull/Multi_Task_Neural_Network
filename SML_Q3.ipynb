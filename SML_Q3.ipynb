{
  "cells": [
    {
      "cell_type": "code",
      "execution_count": 1183,
      "metadata": {
        "id": "0oofYgYu3C-t"
      },
      "outputs": [],
      "source": [
        "import numpy as np\n",
        "import pandas as pd\n",
        "from sklearn.metrics import accuracy_score\n",
        "from sklearn.model_selection import train_test_split\n",
        "import math\n",
        "import random"
      ]
    },
    {
      "cell_type": "code",
      "execution_count": 1184,
      "metadata": {
        "id": "DDGOoNPe3PhH"
      },
      "outputs": [],
      "source": [
        "dataset = pd.read_csv('dataset.csv')"
      ]
    },
    {
      "cell_type": "code",
      "execution_count": 1185,
      "metadata": {
        "id": "h4hEFqEWPy6d"
      },
      "outputs": [],
      "source": [
        "r1 = random.randint(0, 1000)\n",
        "train_set = dataset.sample(frac=0.8, random_state=r1)\n",
        "valid_set = dataset.drop(train_set.index)"
      ]
    },
    {
      "cell_type": "code",
      "execution_count": 1186,
      "metadata": {
        "id": "k-erW5cgP0y1"
      },
      "outputs": [],
      "source": [
        "X_train=train_set[['F1','F2']]\n",
        "Y_train=train_set[['T1','T2']]"
      ]
    },
    {
      "cell_type": "code",
      "execution_count": 1187,
      "metadata": {
        "id": "z5HR6IeeP2Nn"
      },
      "outputs": [],
      "source": [
        "Y_bin=Y_train.iloc[:,:1].values\n",
        "Y_reg=Y_train.iloc[:,1:].values"
      ]
    },
    {
      "cell_type": "code",
      "execution_count": 1188,
      "metadata": {
        "id": "XgsXdiD6w3Eh"
      },
      "outputs": [],
      "source": [
        "for i in range(len(Y_bin)):\n",
        "  Y_bin[i]-=1"
      ]
    },
    {
      "cell_type": "code",
      "execution_count": 1189,
      "metadata": {
        "id": "VAFRhTqLP4EL"
      },
      "outputs": [],
      "source": [
        "X=valid_set[['F1','F2']]\n",
        "Y=valid_set[['T1','T2']]"
      ]
    },
    {
      "cell_type": "code",
      "execution_count": 1190,
      "metadata": {
        "id": "TPa_RH8qP7pB"
      },
      "outputs": [],
      "source": [
        "a=Y.iloc[:,:1].values\n",
        "b=Y.iloc[:,1:].values"
      ]
    },
    {
      "cell_type": "code",
      "execution_count": 1191,
      "metadata": {
        "id": "FkxmZ5jmxGrh"
      },
      "outputs": [],
      "source": [
        "for i in range(len(a)):\n",
        "  a[i]-=1"
      ]
    },
    {
      "cell_type": "code",
      "execution_count": 1192,
      "metadata": {
        "id": "vnxutKrM3U-0"
      },
      "outputs": [],
      "source": [
        "input_size = 2\n",
        "hidden_size1 = 15\n",
        "hidden_size2 = 15\n",
        "output_size = 2"
      ]
    },
    {
      "cell_type": "code",
      "execution_count": 1193,
      "metadata": {
        "id": "0VoMoNOFPj69"
      },
      "outputs": [],
      "source": [
        "# Initialize weights and biases for the first hidden layer\n",
        "W1 = np.random.randn(input_size, hidden_size1) \n",
        "b1 = np.zeros((1, hidden_size1))"
      ]
    },
    {
      "cell_type": "code",
      "execution_count": 1194,
      "metadata": {
        "id": "dKvY0GrHPlre"
      },
      "outputs": [],
      "source": [
        "# Initialize weights and biases for the second hidden layer\n",
        "W2 = np.random.randn(hidden_size1, hidden_size2) \n",
        "b2 = np.zeros((1, hidden_size2))"
      ]
    },
    {
      "cell_type": "code",
      "execution_count": 1195,
      "metadata": {
        "id": "lwPfTjAsPnGG"
      },
      "outputs": [],
      "source": [
        "# Initialize weights and biases for the output layer\n",
        "W3 = np.random.randn(hidden_size2, output_size) \n",
        "b3 = np.zeros((1, output_size))"
      ]
    },
    {
      "cell_type": "code",
      "execution_count": 1196,
      "metadata": {
        "id": "eGkJi_uCQKw9"
      },
      "outputs": [],
      "source": [
        "def accuracy(y_pred,y_true):\n",
        "  accuracy=accuracy_score(y_pred.round(),y_true)\n",
        "  print(f\"Accuracy : {accuracy:.2f}\")"
      ]
    },
    {
      "cell_type": "code",
      "execution_count": 1197,
      "metadata": {
        "id": "h_rKYmRbQfh-"
      },
      "outputs": [],
      "source": [
        "def mse(y_pred,y_true):\n",
        "  mse = np.mean(np.square(y_true-y_pred))\n",
        "  print(f\"Mean squared error: {mse}\")"
      ]
    },
    {
      "cell_type": "code",
      "execution_count": 1198,
      "metadata": {
        "id": "vOQFv7y53jb_"
      },
      "outputs": [],
      "source": [
        "def sigmoid(x):\n",
        "    return 1 / (1 + np.exp(-x))"
      ]
    },
    {
      "cell_type": "code",
      "execution_count": 1199,
      "metadata": {
        "id": "gQedreixPeft"
      },
      "outputs": [],
      "source": [
        "def tanh(x):\n",
        "    return np.tanh(x)"
      ]
    },
    {
      "cell_type": "code",
      "execution_count": 1200,
      "metadata": {
        "id": "vwxEBs9LElJq"
      },
      "outputs": [],
      "source": [
        "def sigmoid_derivative(z):\n",
        "    return sigmoid(z) * (1 - sigmoid(z))"
      ]
    },
    {
      "cell_type": "code",
      "execution_count": 1201,
      "metadata": {
        "id": "6EltVFv_PhA6"
      },
      "outputs": [],
      "source": [
        "def tanh_derivative(z):\n",
        "    return 1 - np.tanh(z) ** 2"
      ]
    },
    {
      "cell_type": "code",
      "execution_count": 1202,
      "metadata": {
        "id": "tNpnGA-97WhP"
      },
      "outputs": [],
      "source": [
        "def binary_cross_entropy(y_pred, y_true):\n",
        "    eps = 1e-11\n",
        "    loss = 0\n",
        "    for i in range(len(y_pred)):\n",
        "        loss += -(y_true[i] * math.log2(y_pred[i] + eps) + (1 - y_true[i]) * math.log2(1 - y_pred[i] + eps))\n",
        "    return loss"
      ]
    },
    {
      "cell_type": "code",
      "execution_count": 1203,
      "metadata": {
        "id": "8mHEwX987XOy"
      },
      "outputs": [],
      "source": [
        "def mean_squared_error(y_pred, y_true):\n",
        "    return np.mean((y_pred - y_true) ** 2)"
      ]
    },
    {
      "cell_type": "code",
      "execution_count": 1204,
      "metadata": {
        "id": "eWhkGLxt3m93"
      },
      "outputs": [],
      "source": [
        "def forward(X, W1, W2, W3, b1, b2, b3):\n",
        "    # First hidden layer\n",
        "    z1 = np.dot(X, W1) + b1\n",
        "    a1 = sigmoid(z1)\n",
        "    \n",
        "    # Second hidden layer\n",
        "    z2 = np.dot(a1, W2) + b2\n",
        "    a2 = tanh(z2)\n",
        "    \n",
        "    # Output layer\n",
        "    z3 = np.dot(a2, W3) + b3\n",
        "    y1 = sigmoid(z3[:,0])\n",
        "    y2 = z3[:,1]\n",
        "    \n",
        "    return y1, y2, a1, a2"
      ]
    },
    {
      "cell_type": "code",
      "execution_count": 1205,
      "metadata": {
        "id": "E77r-dFO3skG"
      },
      "outputs": [],
      "source": [
        "def backward(X, y1, y2, a1, a2, y_true_1, y_true_2, learning_rate, W1, W2, W3, b1, b2, b3):\n",
        "    # Output layer\n",
        "    dL_dy1 = -(y_true_1 - y1) * sigmoid_derivative(y1)\n",
        "    dL_dy2 = -(y_true_2 - y2) \n",
        "\n",
        "    dL_dz3 = np.column_stack((dL_dy1 , dL_dy2))\n",
        "    \n",
        "    dW3 = np.dot(a2.T, dL_dz3)\n",
        "    db3 = np.sum(dL_dz3, axis=0, keepdims=True)\n",
        "    \n",
        "    # Second hidden layer\n",
        "    dL_da2 = np.dot(dL_dz3, W3.T)\n",
        "    dL_dz2 = dL_da2 * tanh_derivative(a2)\n",
        "\n",
        "    dW2 = np.dot(a1.T, dL_dz2)\n",
        "    db2 = np.sum(dL_dz2, axis=0, keepdims=True)\n",
        "    \n",
        "    # First hidden layer\n",
        "    dL_da1 = np.dot(dL_dz2, W2.T)\n",
        "    dL_dz1 = dL_da1 * sigmoid_derivative(a1)\n",
        "\n",
        "    dW1 = np.dot(X.T, dL_dz1)\n",
        "    db1 = np.sum(dL_dz1, axis=0, keepdims=True)\n",
        "    \n",
        "    # Update weights and biases\n",
        "    W3 -= learning_rate * dW3\n",
        "    b3 -= learning_rate * db3\n",
        "    W2 -= learning_rate * dW2\n",
        "    b2 -= learning_rate * db2\n",
        "    W1 -= learning_rate * dW1\n",
        "    b1 -= learning_rate * db1\n",
        "    \n",
        "    return W1, b1, W2, b2, W3, b3"
      ]
    },
    {
      "cell_type": "code",
      "execution_count": 1206,
      "metadata": {
        "id": "O0sOfGpdQADz"
      },
      "outputs": [],
      "source": [
        "learning_rate = 0.0001\n",
        "num_epochs = 1000"
      ]
    },
    {
      "cell_type": "code",
      "execution_count": 1207,
      "metadata": {
        "colab": {
          "base_uri": "https://localhost:8080/"
        },
        "id": "0yqk1dUo3xSn",
        "outputId": "67a8a120-fb2f-4b60-a240-92acc12c9b61"
      },
      "outputs": [
        {
          "output_type": "stream",
          "name": "stdout",
          "text": [
            "Epoch 0: \tTraining Loss: [36.87715894] \tValidation Loss: [58.76778732]\n",
            "Epoch 100: \tTraining Loss: [20.04960345] \tValidation Loss: [57.23879775]\n",
            "Epoch 200: \tTraining Loss: [24.86914019] \tValidation Loss: [22.8295257]\n",
            "Epoch 300: \tTraining Loss: [24.79632902] \tValidation Loss: [23.05072805]\n",
            "Epoch 400: \tTraining Loss: [24.78287776] \tValidation Loss: [23.1712905]\n",
            "Epoch 500: \tTraining Loss: [24.7852394] \tValidation Loss: [23.21953898]\n",
            "Epoch 600: \tTraining Loss: [24.78663303] \tValidation Loss: [23.23607301]\n"
          ]
        },
        {
          "output_type": "stream",
          "name": "stderr",
          "text": [
            "<ipython-input-1198-b683d5dd8fa4>:2: RuntimeWarning: overflow encountered in exp\n",
            "  return 1 / (1 + np.exp(-x))\n"
          ]
        },
        {
          "output_type": "stream",
          "name": "stdout",
          "text": [
            "Epoch 700: \tTraining Loss: [24.78684154] \tValidation Loss: [23.24184605]\n",
            "Epoch 800: \tTraining Loss: [24.78660003] \tValidation Loss: [23.24430612]\n",
            "Epoch 900: \tTraining Loss: [24.78622307] \tValidation Loss: [23.24578315]\n"
          ]
        }
      ],
      "source": [
        "for epoch in range(num_epochs):\n",
        "\n",
        "    for j in range(0, X_train.shape[0],24):\n",
        "        X_batch=X_train[j:j+24]\n",
        "        y_true_1=Y_bin[j:j+24]\n",
        "        y_true_2=Y_reg[j:j+24]\n",
        "\n",
        "        #Forward Propagation\n",
        "        y1, y2, a1, a2 = forward(X_batch, W1, W2, W3, b1, b2, b3)\n",
        "        y1 = y1.reshape((24,1))\n",
        "        y2 = y2.reshape((24,1))\n",
        "\n",
        "        #Loss \n",
        "        loss_bin = binary_cross_entropy(y1,y_true_1)\n",
        "        loss_reg = mean_squared_error(y2,y_true_2)\n",
        "        train_loss = 0.3 * loss_bin + 0.7 * loss_reg\n",
        "        \n",
        "        #Backward Propagation and Gradient\n",
        "        W1, b1, W2, b2, W3, b3 = backward(X_batch, y1, y2, a1, a2, y_true_1, y_true_2, learning_rate, W1, W2, W3, b1, b2, b3) \n",
        "\n",
        "    #Validation Loss\n",
        "    y_val_1,y_val_2,a1,a2=forward(Y, W1, W2, W3, b1, b2, b3)\n",
        "    loss_bin_val = binary_cross_entropy(y_val_1,a)\n",
        "    loss_reg_val = mean_squared_error(y_val_2,b)\n",
        "    loss_val = 0.3 * loss_bin_val + 0.7 * loss_reg_val\n",
        "\n",
        "    #Print progress\n",
        "    if epoch % 100 == 0:\n",
        "        print(f\"Epoch {epoch}: \\tTraining Loss: {train_loss} \\tValidation Loss: {loss_val}\") \n"
      ]
    },
    {
      "cell_type": "code",
      "execution_count": 1208,
      "metadata": {
        "colab": {
          "base_uri": "https://localhost:8080/"
        },
        "id": "XLOw5La6O9hU",
        "outputId": "6c25f76d-f1f9-47ce-b07d-c83bfed53d93"
      },
      "outputs": [
        {
          "output_type": "stream",
          "name": "stdout",
          "text": [
            "Accuracy : 0.80\n"
          ]
        }
      ],
      "source": [
        "accuracy(y_val_1,a)"
      ]
    },
    {
      "cell_type": "code",
      "execution_count": 1209,
      "metadata": {
        "colab": {
          "base_uri": "https://localhost:8080/"
        },
        "id": "-MYQcRbFPQ8M",
        "outputId": "5f402bfb-270c-4835-aa9b-f04e48f2e9a0"
      },
      "outputs": [
        {
          "output_type": "stream",
          "name": "stdout",
          "text": [
            "Mean squared error: 22.77310104734634\n"
          ]
        }
      ],
      "source": [
        "mse(y_val_2,b)"
      ]
    }
  ],
  "metadata": {
    "colab": {
      "provenance": []
    },
    "kernelspec": {
      "display_name": "Python 3",
      "name": "python3"
    },
    "language_info": {
      "name": "python"
    }
  },
  "nbformat": 4,
  "nbformat_minor": 0
}